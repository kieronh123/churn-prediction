{
 "cells": [
  {
   "cell_type": "code",
   "execution_count": 1,
   "id": "c0b0c28f-0ee4-4f2f-b42f-c9bbe9f99aa1",
   "metadata": {},
   "outputs": [],
   "source": [
    "from src.preprocessing import load_data, build_preprocessing_pipeline, split_and_preprocess\n",
    "\n",
    "df = load_data(\"data/cleaned_churn.csv\")\n",
    "X, y, preprocessor = build_preprocessing_pipeline(df)\n",
    "X_train, X_test, y_train, y_test = split_and_preprocess(X, y, preprocessor)\n",
    "\n"
   ]
  },
  {
   "cell_type": "code",
   "execution_count": null,
   "id": "2d4bf406-e417-4612-aacb-26b299453feb",
   "metadata": {},
   "outputs": [],
   "source": []
  }
 ],
 "metadata": {
  "kernelspec": {
   "display_name": "Python 3 (ipykernel)",
   "language": "python",
   "name": "python3"
  },
  "language_info": {
   "codemirror_mode": {
    "name": "ipython",
    "version": 3
   },
   "file_extension": ".py",
   "mimetype": "text/x-python",
   "name": "python",
   "nbconvert_exporter": "python",
   "pygments_lexer": "ipython3",
   "version": "3.11.9"
  }
 },
 "nbformat": 4,
 "nbformat_minor": 5
}
